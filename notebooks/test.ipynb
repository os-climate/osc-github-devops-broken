{
 "cells": [
  {
   "cell_type": "raw",
   "id": "3ab8dc06-b9c1-429c-87a8-61e727a8cdf4",
   "metadata": {},
   "source": [
    "SPDX-License-Identifier: Apache-2.0"
   ]
  },
  {
   "cell_type": "raw",
   "id": "8378a202-4d52-479c-a28b-8b0a9506f113",
   "metadata": {},
   "source": [
    "SPDX-FileCopyrightText: 2024 The Linux Foundation <https://linuxfoundation.org>"
   ]
  }
 ],
 "metadata": {
  "kernelspec": {
   "display_name": "Python 3 (ipykernel)",
   "language": "python",
   "name": "python3"
  },
  "language_info": {
   "codemirror_mode": {
    "name": "ipython",
    "version": 3
   },
   "file_extension": ".py",
   "mimetype": "text/x-python",
   "name": "python",
   "nbconvert_exporter": "python",
   "pygments_lexer": "ipython3",
   "version": "3.10.13"
  }
 },
 "nbformat": 4,
 "nbformat_minor": 5
}
